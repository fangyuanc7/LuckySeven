{
 "cells": [
  {
   "cell_type": "code",
   "execution_count": 1,
   "metadata": {},
   "outputs": [
    {
     "data": {
      "text/html": [
       "<script type=\"text/javascript\">window.PlotlyConfig = {MathJaxConfig: 'local'};</script><script type=\"text/javascript\">if (window.MathJax) {MathJax.Hub.Config({SVG: {font: \"STIX-Web\"}});}</script><script>requirejs.config({paths: { 'plotly': ['https://cdn.plot.ly/plotly-latest.min']},});if(!window._Plotly) {require(['plotly'],function(plotly) {window._Plotly=plotly;});}</script>"
      ],
      "text/vnd.plotly.v1+html": [
       "<script type=\"text/javascript\">window.PlotlyConfig = {MathJaxConfig: 'local'};</script><script type=\"text/javascript\">if (window.MathJax) {MathJax.Hub.Config({SVG: {font: \"STIX-Web\"}});}</script><script>requirejs.config({paths: { 'plotly': ['https://cdn.plot.ly/plotly-latest.min']},});if(!window._Plotly) {require(['plotly'],function(plotly) {window._Plotly=plotly;});}</script>"
      ]
     },
     "metadata": {},
     "output_type": "display_data"
    }
   ],
   "source": [
    "import pandas as pd\n",
    "import numpy as np\n",
    "import math\n",
    "import plotly.graph_objs as go \n",
    "from plotly.offline import init_notebook_mode,iplot\n",
    "import matplotlib.pyplot as plt\n",
    "import plotly.plotly as py\n",
    "init_notebook_mode(connected=True)\n"
   ]
  },
  {
   "cell_type": "code",
   "execution_count": 2,
   "metadata": {},
   "outputs": [],
   "source": [
    "path = '/Users/shmylm/Desktop/Project/Process/'"
   ]
  },
  {
   "cell_type": "code",
   "execution_count": 3,
   "metadata": {},
   "outputs": [],
   "source": [
    "def get_grouped(path):\n",
    "    BA_job = pd.read_csv(path + 'BA_job_clean.csv')\n",
    "    Grouped_BA = BA_job.groupby('State')\n",
    "    Grouped_df = Grouped_BA.describe()\n",
    "    return Grouped_df"
   ]
  },
  {
   "cell_type": "code",
   "execution_count": 4,
   "metadata": {
    "scrolled": true
   },
   "outputs": [],
   "source": [
    "def get_barplot_salaryrange(path):\n",
    "    Grouped_df = get_grouped(path)\n",
    "    state_name = Grouped_df.index.get_values()\n",
    "    lower = Grouped_df['Salary_Lower_Bound']['mean']\n",
    "    upper = Grouped_df['Salary_Upper_Bound']['mean']\n",
    "    trace1 = go.Bar(\n",
    "                    x = state_name,\n",
    "                    y = lower,\n",
    "                    name='Lower Salary',\n",
    "                    width = 0.8,\n",
    "                    text = lower.round(0),\n",
    "                    textposition = 'auto'     \n",
    "                    )\n",
    "    trace2 = go.Bar(\n",
    "                    x = state_name,\n",
    "                    y = upper,\n",
    "                    name='Upper Salary',\n",
    "                    width = 0.8,\n",
    "                    text = upper.round(0),\n",
    "                    textposition = 'auto'\n",
    "                    )\n",
    "\n",
    "    data = [trace1, trace2]\n",
    "    layout = go.Layout(title = 'Upper and Lower Range Salary for Business Analyst Positions by States',\n",
    "                       barmode='stack',\n",
    "                       xaxis = dict(\n",
    "                                   title = 'State Name',\n",
    "                                   ticklen = 5,\n",
    "                                   zeroline = False,\n",
    "                                   gridwidth = 2,\n",
    "                                   ),\n",
    "                       yaxis = dict(\n",
    "                                   title = 'Salary (in thousands)',\n",
    "                                   ticklen = 5,\n",
    "                                   gridwidth = 2,\n",
    "                                   ),\n",
    "                        )\n",
    "\n",
    "    fig = go.Figure(data=data, layout=layout)\n",
    "    return py.iplot(fig, filename='stacked-bar')\n",
    "    "
   ]
  },
  {
   "cell_type": "code",
   "execution_count": 5,
   "metadata": {},
   "outputs": [
    {
     "data": {
      "text/html": [
       "<iframe id=\"igraph\" scrolling=\"no\" style=\"border:none;\" seamless=\"seamless\" src=\"https://plot.ly/~shmylm/8.embed\" height=\"525px\" width=\"100%\"></iframe>"
      ],
      "text/plain": [
       "<plotly.tools.PlotlyDisplay object>"
      ]
     },
     "execution_count": 5,
     "metadata": {},
     "output_type": "execute_result"
    }
   ],
   "source": [
    "get_barplot_salaryrange(path)"
   ]
  }
 ],
 "metadata": {
  "kernelspec": {
   "display_name": "Python 3",
   "language": "python",
   "name": "python3"
  },
  "language_info": {
   "codemirror_mode": {
    "name": "ipython",
    "version": 3
   },
   "file_extension": ".py",
   "mimetype": "text/x-python",
   "name": "python",
   "nbconvert_exporter": "python",
   "pygments_lexer": "ipython3",
   "version": "3.6.5"
  }
 },
 "nbformat": 4,
 "nbformat_minor": 2
}
