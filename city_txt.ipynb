{
 "cells": [
  {
   "cell_type": "code",
   "execution_count": 9,
   "metadata": {},
   "outputs": [],
   "source": [
    "import numpy as np\n",
    "import pandas as pd\n",
    "path = '/Users/chenfangyuan/Desktop/tools_pj/'\n",
    "city_sets = pd.read_csv(path + 'city_sets.csv')\n",
    "city_sets['City Name']\n",
    "\n",
    "city = ['All']\n",
    "a = list(city_sets['City Name'])\n",
    "b = sorted(list(set([str(i) for i in a])))\n",
    "city.extend(b)"
   ]
  },
  {
   "cell_type": "code",
   "execution_count": 12,
   "metadata": {},
   "outputs": [],
   "source": [
    "city_list = []\n",
    "for i in city:\n",
    "    city_list.append(str(i) + '\\n')"
   ]
  },
  {
   "cell_type": "code",
   "execution_count": 13,
   "metadata": {},
   "outputs": [],
   "source": [
    "ct = open('city.txt', 'a')\n",
    "ct.writelines(city_list)"
   ]
  }
 ],
 "metadata": {
  "kernelspec": {
   "display_name": "Python 3",
   "language": "python",
   "name": "python3"
  },
  "language_info": {
   "codemirror_mode": {
    "name": "ipython",
    "version": 3
   },
   "file_extension": ".py",
   "mimetype": "text/x-python",
   "name": "python",
   "nbconvert_exporter": "python",
   "pygments_lexer": "ipython3",
   "version": "3.6.5"
  }
 },
 "nbformat": 4,
 "nbformat_minor": 2
}
