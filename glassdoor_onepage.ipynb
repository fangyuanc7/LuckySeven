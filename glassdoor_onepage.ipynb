{
 "cells": [
  {
   "cell_type": "code",
   "execution_count": 37,
   "metadata": {},
   "outputs": [],
   "source": [
    "place = 'los angeles'\n",
    "keyword = 'android developer'"
   ]
  },
  {
   "cell_type": "code",
   "execution_count": 38,
   "metadata": {},
   "outputs": [],
   "source": [
    "def get_job_list(place, keyword):\n",
    "    import requests\n",
    "    from bs4 import BeautifulSoup\n",
    "    \n",
    "    headers = {\n",
    "        'accept': 'text/html,application/xhtml+xml,application/xml;q=0.9,image/webp,*/*;q=0.8',\n",
    "        'accept-encoding': 'gzip, deflate, sdch, br',\n",
    "        'accept-language': 'en-GB,en-US;q=0.8,en;q=0.6',\n",
    "        'referer': 'https://www.glassdoor.com/',\n",
    "        'upgrade-insecure-requests': '1',\n",
    "        'user-agent': 'Mozilla/5.0 (X11; Linux x86_64) AppleWebKit/537.36 (KHTML, like Gecko) Ubuntu Chromium/51.0.2704.79 Chrome/51.0.2704.79 Safari/537.36',\n",
    "        'Cache-Control': 'no-cache',\n",
    "        'Connection': 'keep-alive'\n",
    "    }\n",
    "    \n",
    "    location_headers = {\n",
    "        'accept': 'text/html,application/xhtml+xml,application/xml;q=0.9,image/webp,*/*;q=0.01',\n",
    "        'accept-encoding': 'gzip, deflate, sdch, br',\n",
    "        'accept-language': 'en-GB,en-US;q=0.8,en;q=0.6',\n",
    "        'referer': 'https://www.glassdoor.com/',\n",
    "        'upgrade-insecure-requests': '1',\n",
    "        'user-agent': 'Mozilla/5.0 (X11; Linux x86_64) AppleWebKit/537.36 (KHTML, like Gecko) Ubuntu Chromium/51.0.2704.79 Chrome/51.0.2704.79 Safari/537.36',\n",
    "        'Cache-Control': 'no-cache',\n",
    "        'Connection': 'keep-alive'\n",
    "    }\n",
    "\n",
    "    data = {\"term\": place,\n",
    "            \"maxLocationsToReturn\": 10}\n",
    "    \n",
    "    location_url = \"https://www.glassdoor.co.in/findPopularLocationAjax.htm?\"\n",
    "    \n",
    "    try:\n",
    "        # get location id for search location\n",
    "        location_response = requests.post(location_url, headers=location_headers, data=data).json()\n",
    "        place_id = location_response[0]['locationId']\n",
    "        job_list_url = 'https://www.glassdoor.com/Job/jobs.htm'\n",
    "        job_description_url = 'https://www.glassdoor.com/partner'\n",
    "        data = {\n",
    "            'clickSource': 'searchBtn',\n",
    "            'sc.keyword': keyword,\n",
    "            'locT': 'C',\n",
    "            'locId': place_id,\n",
    "            'jobType': ''\n",
    "        }\n",
    "        \n",
    "        result_list = list()\n",
    "        \n",
    "        if place_id:\n",
    "            response = requests.post(job_list_url, headers=headers, data=data)\n",
    "            results_page = BeautifulSoup(response.content,'lxml')\n",
    "            jobs = results_page.find('', class_='jlGrid hover').find_all('li')\n",
    "            for job in jobs:\n",
    "                job_name = job.find('div', class_='flexbox jobTitle').find('a').get_text()\n",
    "                job_url = job_description_url+job.find('div', class_='flexbox jobTitle').find('a').get('href')\n",
    "                company_location = job.find('div', class_='flexbox empLoc').find('div').get_text().split(' – ')\n",
    "                job_company = company_location[0][1:]\n",
    "                job_city = company_location[1].split(', ')[0]\n",
    "                job_state = company_location[1].split(', ')[1]\n",
    "                if job.find('span', class_='green small'):\n",
    "                    job_salary = job.find('span', class_='green small').get_text()[1:]\n",
    "                else:\n",
    "                    job_salary = ''\n",
    "                result_list.append((job_name, job_company, job_city, job_state, job_salary, job_url))\n",
    "\n",
    "            return result_list         \n",
    "        else:\n",
    "            print('Location not available.')\n",
    "              \n",
    "    except:\n",
    "        print('Fail to find jobs.')\n",
    "\n",
    "    "
   ]
  },
  {
   "cell_type": "code",
   "execution_count": 39,
   "metadata": {},
   "outputs": [],
   "source": [
    "result = get_job_list(place, keyword)"
   ]
  },
  {
   "cell_type": "code",
   "execution_count": 41,
   "metadata": {},
   "outputs": [
    {
     "data": {
      "text/plain": [
       "30"
      ]
     },
     "execution_count": 41,
     "metadata": {},
     "output_type": "execute_result"
    }
   ],
   "source": [
    "len(result)"
   ]
  },
  {
   "cell_type": "code",
   "execution_count": null,
   "metadata": {},
   "outputs": [],
   "source": []
  }
 ],
 "metadata": {
  "kernelspec": {
   "display_name": "Python 3",
   "language": "python",
   "name": "python3"
  },
  "language_info": {
   "codemirror_mode": {
    "name": "ipython",
    "version": 3
   },
   "file_extension": ".py",
   "mimetype": "text/x-python",
   "name": "python",
   "nbconvert_exporter": "python",
   "pygments_lexer": "ipython3",
   "version": "3.6.5"
  }
 },
 "nbformat": 4,
 "nbformat_minor": 2
}
