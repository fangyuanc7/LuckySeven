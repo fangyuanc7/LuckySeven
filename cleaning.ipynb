{
 "cells": [
  {
   "cell_type": "code",
   "execution_count": null,
   "metadata": {},
   "outputs": [],
   "source": [
    "import numpy as np\n",
    "import pandas as pd\n",
    "\n",
    "path = '/Users/chenfangyuan/Downloads/'\n",
    "city_set = pd.read_csv('/Users/chenfangyuan/Desktop/tools_pj/city_sets.csv')\n",
    "data_set = pd.read_csv(path+'merge.csv')\n",
    "\n",
    "city_list = list(city_set[\"City Name\"])"
   ]
  },
  {
   "cell_type": "code",
   "execution_count": null,
   "metadata": {},
   "outputs": [],
   "source": [
    "import math\n",
    "def modify_data(df):\n",
    "    for i in range(len(df)):\n",
    "        if type(df['Salary'][i]) != str:\n",
    "            if math.isnan(df['Salary'][i]) == True:\n",
    "                df['Salary'][i] = df['Salary'][i]\n",
    "        elif 'per hour' not in df['Salary'][i]:\n",
    "            df['Salary'][i] = df['Salary'][i]\n",
    "        elif 'per hour' in df['Salary'][i]:\n",
    "            l = int(int(df['Salary'][i][1:3])*40*4*12/1000)\n",
    "            u = int(int(df['Salary'][i][5:7])*40*4*12/1000)\n",
    "            df['Salary'][i] = '$'+str(l) + 'k' + '-' + '$' + str(u) + 'k'\n",
    "    return df\n",
    "\n",
    "data = modify_data(data_set)"
   ]
  },
  {
   "cell_type": "code",
   "execution_count": null,
   "metadata": {},
   "outputs": [],
   "source": [
    "def get_range(df):\n",
    "    lower = []\n",
    "    upper = []\n",
    "    for i in range(len(df)):\n",
    "        if type(df['Salary'][i]) != str:\n",
    "            if math.isnan(df['Salary'][i]) == True:\n",
    "                lower.append(None)\n",
    "                upper.append(None)\n",
    "        else:\n",
    "            salary = df['Salary'][i]\n",
    "            salary = salary.split('k')\n",
    "            lower.append(salary[0][1:])\n",
    "            upper.append(salary[1][2:])\n",
    "    return lower,upper\n",
    "\n",
    "data['Salary_Lower_Bound']=get_range(data)[0]\n",
    "data['Salary_Upper_Bound']=get_range(data)[1]"
   ]
  },
  {
   "cell_type": "code",
   "execution_count": null,
   "metadata": {},
   "outputs": [],
   "source": [
    "data = data[data['City'].isin(city_list)]"
   ]
  },
  {
   "cell_type": "code",
   "execution_count": null,
   "metadata": {},
   "outputs": [],
   "source": [
    "data = data.reset_index(drop=True)"
   ]
  },
  {
   "cell_type": "code",
   "execution_count": null,
   "metadata": {},
   "outputs": [],
   "source": [
    "outpath = '/Users/chenfangyuan/Desktop/tools_pj/cleaned_data/'\n",
    "data.to_csv(outpath+'BA_job_data.csv', header=True, index=False)"
   ]
  }
 ],
 "metadata": {
  "kernelspec": {
   "display_name": "Python 3",
   "language": "python",
   "name": "python3"
  },
  "language_info": {
   "codemirror_mode": {
    "name": "ipython",
    "version": 3
   },
   "file_extension": ".py",
   "mimetype": "text/x-python",
   "name": "python",
   "nbconvert_exporter": "python",
   "pygments_lexer": "ipython3",
   "version": "3.6.5"
  }
 },
 "nbformat": 4,
 "nbformat_minor": 2
}
