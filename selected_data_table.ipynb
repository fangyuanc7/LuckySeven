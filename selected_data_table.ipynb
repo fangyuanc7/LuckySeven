{
 "cells": [
  {
   "cell_type": "code",
   "execution_count": 1,
   "metadata": {},
   "outputs": [],
   "source": [
    "def update():\n",
    "    current = select_job()\n",
    "    source.data = current.to_dict('list') \n",
    "\n",
    "#source = ColumnDataSource(data=dict())\n",
    "\n",
    "source.data = {\n",
    "        'Salary'           : current.Salary,\n",
    "        'City'             : current.City,\n",
    "        'Company'          : current.Company,\n",
    "        'Description'      : current.Description,\n",
    "    }\n",
    "\n",
    "columns = [\n",
    "    TableColumn(field=\"Salary\", title=\"Salary\"),\n",
    "    TableColumn(field=\"City\", title=\"City\"),\n",
    "    TableColumn(field=\"Company\", title=\"Company\"),\n",
    "    TableColumn(field=\"Description\", title=\"Description\")\n",
    "] \n",
    "\n",
    "data_table = DataTable(source=source, columns=columns, width=700)"
   ]
  },
  {
   "cell_type": "code",
   "execution_count": null,
   "metadata": {},
   "outputs": [],
   "source": []
  }
 ],
 "metadata": {
  "kernelspec": {
   "display_name": "Python 3",
   "language": "python",
   "name": "python3"
  },
  "language_info": {
   "codemirror_mode": {
    "name": "ipython",
    "version": 3
   },
   "file_extension": ".py",
   "mimetype": "text/x-python",
   "name": "python",
   "nbconvert_exporter": "python",
   "pygments_lexer": "ipython3",
   "version": "3.6.5"
  }
 },
 "nbformat": 4,
 "nbformat_minor": 2
}
