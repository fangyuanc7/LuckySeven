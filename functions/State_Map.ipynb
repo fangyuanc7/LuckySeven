{
 "cells": [
  {
   "cell_type": "code",
   "execution_count": 7,
   "metadata": {},
   "outputs": [
    {
     "data": {
      "text/html": [
       "<script type=\"text/javascript\">window.PlotlyConfig = {MathJaxConfig: 'local'};</script><script type=\"text/javascript\">if (window.MathJax) {MathJax.Hub.Config({SVG: {font: \"STIX-Web\"}});}</script><script>requirejs.config({paths: { 'plotly': ['https://cdn.plot.ly/plotly-latest.min']},});if(!window._Plotly) {require(['plotly'],function(plotly) {window._Plotly=plotly;});}</script>"
      ],
      "text/vnd.plotly.v1+html": [
       "<script type=\"text/javascript\">window.PlotlyConfig = {MathJaxConfig: 'local'};</script><script type=\"text/javascript\">if (window.MathJax) {MathJax.Hub.Config({SVG: {font: \"STIX-Web\"}});}</script><script>requirejs.config({paths: { 'plotly': ['https://cdn.plot.ly/plotly-latest.min']},});if(!window._Plotly) {require(['plotly'],function(plotly) {window._Plotly=plotly;});}</script>"
      ]
     },
     "metadata": {},
     "output_type": "display_data"
    }
   ],
   "source": [
    "import pandas as pd\n",
    "import numpy as np\n",
    "from plotly.offline import init_notebook_mode,iplot\n",
    "import plotly.plotly as py\n",
    "import plotly.tools as tls\n",
    "init_notebook_mode(connected=True) \n",
    "%matplotlib inline\n",
    "tls.set_credentials_file(username = 'shmylm', api_key = 'rJXTWcMKPD4xWVrXqF1W')"
   ]
  },
  {
   "cell_type": "code",
   "execution_count": 8,
   "metadata": {},
   "outputs": [],
   "source": [
    "path = '/Users/shmylm/Desktop/Project/Process/'"
   ]
  },
  {
   "cell_type": "code",
   "execution_count": 9,
   "metadata": {},
   "outputs": [],
   "source": [
    "# Create a dataframe which will contains two columns: state and counts(number of positions in each state)\n",
    "def get_state_dataframe(path):\n",
    "    BA_job = pd.read_csv(path + 'BA_job_clean.csv') \n",
    "    state_dict = {}\n",
    "    state = []\n",
    "    counts = []\n",
    "    for i in range(len(BA_job)):\n",
    "        if BA_job['State'][i] not in state_dict:\n",
    "            state_dict[BA_job['State'][i]] = 1\n",
    "        else:\n",
    "            state_dict[BA_job['State'][i]] += 1     \n",
    "    for i in state_dict.keys():\n",
    "        state.append(i)\n",
    "    for i in state_dict.values():\n",
    "        counts.append(i)\n",
    "    state = pd.DataFrame({'State':state, 'Counts':counts})\n",
    "    return state"
   ]
  },
  {
   "cell_type": "code",
   "execution_count": 10,
   "metadata": {},
   "outputs": [],
   "source": [
    "def get_graph(path):\n",
    "    state = get_state_dataframe(path)\n",
    "    state['text'] = 'State ' + state['State'].astype(str) + '<br>' + 'Counts ' + state['Counts'].astype(str)\n",
    "    data = [dict(type = 'choropleth', locations = state['State'], \n",
    "                 z = state['Counts'], locationmode = 'USA-states',\n",
    "                 text = state['text'], colorscale = 'JET', \n",
    "                 colorbar = dict(title = 'Number of Positions'))]\n",
    "    layout = dict(title = \"US Business Analyst Positions by States\", \n",
    "                  geo = dict(scope='usa', projection = dict(type = \"albers usa\")))\n",
    "    fig = dict(data = data, layout = layout)\n",
    "    return py.iplot(fig, filename = \"BA_Positions-choropleth.map\")"
   ]
  },
  {
   "cell_type": "code",
   "execution_count": 11,
   "metadata": {},
   "outputs": [
    {
     "data": {
      "text/html": [
       "<iframe id=\"igraph\" scrolling=\"no\" style=\"border:none;\" seamless=\"seamless\" src=\"https://plot.ly/~shmylm/2.embed\" height=\"525px\" width=\"100%\"></iframe>"
      ],
      "text/plain": [
       "<plotly.tools.PlotlyDisplay object>"
      ]
     },
     "execution_count": 11,
     "metadata": {},
     "output_type": "execute_result"
    }
   ],
   "source": [
    "get_graph(path)"
   ]
  },
  {
   "cell_type": "code",
   "execution_count": null,
   "metadata": {},
   "outputs": [],
   "source": []
  }
 ],
 "metadata": {
  "kernelspec": {
   "display_name": "Python 3",
   "language": "python",
   "name": "python3"
  },
  "language_info": {
   "codemirror_mode": {
    "name": "ipython",
    "version": 3
   },
   "file_extension": ".py",
   "mimetype": "text/x-python",
   "name": "python",
   "nbconvert_exporter": "python",
   "pygments_lexer": "ipython3",
   "version": "3.6.5"
  }
 },
 "nbformat": 4,
 "nbformat_minor": 2
}
