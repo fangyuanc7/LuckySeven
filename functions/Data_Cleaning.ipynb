{
 "cells": [
  {
   "cell_type": "code",
   "execution_count": 1,
   "metadata": {},
   "outputs": [],
   "source": [
    "import pandas as pd\n",
    "import numpy as np\n",
    "import math"
   ]
  },
  {
   "cell_type": "code",
   "execution_count": 2,
   "metadata": {},
   "outputs": [],
   "source": [
    "path='/Users/shmylm/Desktop/Project/Process/'\n",
    "def modify_data(path):\n",
    "    BA_job = pd.read_csv(path + 'BA_job.csv')\n",
    "    for i in range(len(BA_job['Salary'])):\n",
    "        if type(BA_job['Salary'][i]) != str:\n",
    "            if math.isnan(BA_job['Salary'][i]) == True:\n",
    "                BA_job['Salary'][i] = BA_job['Salary'][i]\n",
    "        elif 'per hour' not in BA_job['Salary'][i]:\n",
    "            BA_job['Salary'][i] = BA_job['Salary'][i]\n",
    "        elif 'per hour' in BA_job['Salary'][i]:\n",
    "            l = int(int(BA_job['Salary'][i][1:3])*40*4*12/1000)\n",
    "            u = int(int(BA_job['Salary'][i][5:7])*40*4*12/1000)\n",
    "            BA_job['Salary'][i] = '$' + str(l) + 'k' + '-' + '$' + str(u) + 'k'\n",
    "    return BA_job     "
   ]
  },
  {
   "cell_type": "code",
   "execution_count": 3,
   "metadata": {},
   "outputs": [],
   "source": [
    "def get_range(path):\n",
    "    BA_job_data = modify_data(path)\n",
    "    lower = []\n",
    "    upper = []\n",
    "    for i in range(len(BA_job_data['Salary'])):\n",
    "        if type(BA_job_data['Salary'][i]) != str:\n",
    "            if math.isnan(BA_job_data['Salary'][i]) == True:\n",
    "                lower.append(None)\n",
    "                upper.append(None)\n",
    "        else:\n",
    "            salary = BA_job_data['Salary'][i]\n",
    "            salary = salary.split('k')\n",
    "            lower.append(salary[0][1:])\n",
    "            upper.append(salary[1][2:])\n",
    "    return lower, upper"
   ]
  },
  {
   "cell_type": "code",
   "execution_count": 6,
   "metadata": {},
   "outputs": [],
   "source": [
    "def get_cleaned_dataset(path):\n",
    "    BA_job_data = modify_data(path)\n",
    "    BA_job_data['Salary_Lower_Bound'] = get_range(path)[0]\n",
    "    BA_job_data['Salary_Upper_Bound'] = get_range(path)[1]\n",
    "    city_set = pd.read_csv(path + 'city_sets.csv')\n",
    "    city_list = list(city_set[\"City Name\"])\n",
    "    BA_job_data = BA_job_data[BA_job_data['City'].isin(city_list)]\n",
    "    BA_job_data = BA_job_data.reset_index(drop=True)\n",
    "    outpath = '/Users/shmylm/Desktop/Project/Process/'\n",
    "    BA_job_data.to_csv(outpath + 'BA_job_clean.csv', header=True, index=False)\n",
    "    "
   ]
  },
  {
   "cell_type": "code",
   "execution_count": null,
   "metadata": {},
   "outputs": [],
   "source": []
  }
 ],
 "metadata": {
  "kernelspec": {
   "display_name": "Python 3",
   "language": "python",
   "name": "python3"
  },
  "language_info": {
   "codemirror_mode": {
    "name": "ipython",
    "version": 3
   },
   "file_extension": ".py",
   "mimetype": "text/x-python",
   "name": "python",
   "nbconvert_exporter": "python",
   "pygments_lexer": "ipython3",
   "version": "3.6.5"
  }
 },
 "nbformat": 4,
 "nbformat_minor": 2
}
