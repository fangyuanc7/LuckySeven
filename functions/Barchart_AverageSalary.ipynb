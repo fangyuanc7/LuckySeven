{
 "cells": [
  {
   "cell_type": "code",
   "execution_count": 17,
   "metadata": {},
   "outputs": [],
   "source": [
    "import pandas as pd\n",
    "import numpy as np\n",
    "import math\n",
    "import plotly.graph_objs as go \n",
    "from plotly.offline import init_notebook_mode,iplot\n",
    "import matplotlib.pyplot as plt\n",
    "import plotly.plotly as py\n",
    "import plotly.tools as tls\n",
    "tls.set_credentials_file(username = 'shmylm', api_key = 'rJXTWcMKPD4xWVrXqF1W')\n"
   ]
  },
  {
   "cell_type": "code",
   "execution_count": 18,
   "metadata": {},
   "outputs": [],
   "source": [
    "path = '/Users/shmylm/Desktop/Project/Process/'"
   ]
  },
  {
   "cell_type": "code",
   "execution_count": 19,
   "metadata": {},
   "outputs": [],
   "source": [
    "# Creat two lists named Lower_Salary and Upper_Salary, which corresponding to the Salary_Lower_Bound \n",
    "#and Salary_Upper_Bound columns in the cleaned dataframe. Append value 0 to the list if the data is missing\n",
    "#Add one column named Average_Salary to cleanned dataset then geted a dataframe grouped by State\n",
    "\n",
    "def get_grouped_dataframe(path):\n",
    "    BA_job = pd.read_csv(path + 'BA_job_clean.csv')\n",
    "    Lower_Salary = []\n",
    "    Upper_Salary = []\n",
    "    Average_Salary = []\n",
    "    for i in range(len(BA_job)):\n",
    "        if math.isnan(BA_job['Salary_Lower_Bound'][i]) == True:\n",
    "            Lower_Salary.append(0)\n",
    "        else:\n",
    "            Lower_Salary.append(int(BA_job['Salary_Lower_Bound'][i]))\n",
    "    for i in range(len(BA_job)):\n",
    "        if math.isnan(BA_job['Salary_Upper_Bound'][i]) == True:\n",
    "            Upper_Salary.append(0)\n",
    "        else:\n",
    "            Upper_Salary.append(int(BA_job['Salary_Upper_Bound'][i]))\n",
    "    \n",
    "    for i in range(len(Lower_Salary)):\n",
    "        Average_Salary.append((Lower_Salary[i] + Upper_Salary[i])/2)\n",
    "    BA_job['Average_Salary'] = Average_Salary\n",
    "    Grouped_BA = BA_job.groupby('State')\n",
    "    Grouped_df = Grouped_BA.describe()\n",
    "    return Grouped_df"
   ]
  },
  {
   "cell_type": "code",
   "execution_count": 20,
   "metadata": {},
   "outputs": [],
   "source": [
    "def get_barplot_average_salary(path):\n",
    "    Grouped_df=get_grouped_dataframe(path)\n",
    "    State_name = Grouped_df.index.get_values()\n",
    "    Average_Mean = Grouped_df['Average_Salary']['mean']\n",
    "    data = [go.Bar(\n",
    "        x = State_name,\n",
    "        y = Average_Mean,\n",
    "        width = 1,\n",
    "        text = Average_Mean.round(0),\n",
    "        textposition = 'auto',\n",
    "        marker = dict(\n",
    "        color = 'rgb(158,202,225)',\n",
    "        line = dict(\n",
    "        color = 'rgb(8,48,107)',\n",
    "        width = 1.5),\n",
    "        opacity = 0.6,\n",
    "       ))]\n",
    "    layout = dict(title = 'Average Salary for Business Analyst Positions in Different States',\n",
    "             xaxis = dict(\n",
    "             title = 'State Name',\n",
    "             ticklen = 5,\n",
    "             zeroline = False,\n",
    "             gridwidth = 2,\n",
    "             ),\n",
    "             yaxis = dict(\n",
    "             title = 'Average_Salary (in thousands)',\n",
    "             ticklen = 5,\n",
    "             gridwidth = 2,\n",
    "             ))\n",
    "\n",
    "    fig = go.Figure(data = data, layout = layout)\n",
    "    return py.iplot(fig, filename = 'basic-bar')"
   ]
  },
  {
   "cell_type": "code",
   "execution_count": 21,
   "metadata": {},
   "outputs": [
    {
     "data": {
      "text/html": [
       "<iframe id=\"igraph\" scrolling=\"no\" style=\"border:none;\" seamless=\"seamless\" src=\"https://plot.ly/~shmylm/4.embed\" height=\"525px\" width=\"100%\"></iframe>"
      ],
      "text/plain": [
       "<plotly.tools.PlotlyDisplay object>"
      ]
     },
     "execution_count": 21,
     "metadata": {},
     "output_type": "execute_result"
    }
   ],
   "source": [
    "get_barplot_average_salary(path)"
   ]
  },
  {
   "cell_type": "code",
   "execution_count": null,
   "metadata": {},
   "outputs": [],
   "source": []
  }
 ],
 "metadata": {
  "kernelspec": {
   "display_name": "Python 3",
   "language": "python",
   "name": "python3"
  },
  "language_info": {
   "codemirror_mode": {
    "name": "ipython",
    "version": 3
   },
   "file_extension": ".py",
   "mimetype": "text/x-python",
   "name": "python",
   "nbconvert_exporter": "python",
   "pygments_lexer": "ipython3",
   "version": "3.6.5"
  }
 },
 "nbformat": 4,
 "nbformat_minor": 2
}
