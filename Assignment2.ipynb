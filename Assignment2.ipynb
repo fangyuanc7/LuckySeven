{
 "cells": [
  {
   "cell_type": "code",
   "execution_count": 4,
   "metadata": {},
   "outputs": [
    {
     "name": "stdout",
     "output_type": "stream",
     "text": [
      "Optimize a model with 3 rows, 6 columns and 12 nonzeros\n",
      "Coefficient statistics:\n",
      "  Matrix range     [1e+00, 3e+00]\n",
      "  Objective range  [1e+00, 2e+00]\n",
      "  Bounds range     [0e+00, 0e+00]\n",
      "  RHS range        [1e+01, 6e+01]\n",
      "Presolve removed 0 rows and 3 columns\n",
      "Presolve time: 0.01s\n",
      "Presolved: 3 rows, 3 columns, 9 nonzeros\n",
      "\n",
      "Iteration    Objective       Primal Inf.    Dual Inf.      Time\n",
      "       0    6.0000000e+01   1.999100e+01   0.000000e+00      0s\n",
      "       4    2.5000000e+01   0.000000e+00   0.000000e+00      0s\n",
      "\n",
      "Solved in 4 iterations and 0.01 seconds\n",
      "Optimal objective  2.500000000e+01\n",
      "Model status: 2\n",
      "x1 15.0\n",
      "x2 5.0\n",
      "x3 0.0\n",
      "x4 10.0\n",
      "x5 0.0\n",
      "x6 0.0\n",
      "Obj: 25.0\n"
     ]
    }
   ],
   "source": [
    "from gurobipy import *\n",
    "try:\n",
    "    m = Model(\"problem1\")\n",
    "    x1 = m.addVar(vtype=GRB.CONTINUOUS, name=\"x1\", lb=0)\n",
    "    x2 = m.addVar(vtype=GRB.CONTINUOUS, name=\"x2\", lb=0)\n",
    "    x3 = m.addVar(vtype=GRB.CONTINUOUS, name=\"x3\", lb=0)\n",
    "    x4 = m.addVar(vtype=GRB.CONTINUOUS, name=\"x4\", lb=0)\n",
    "    x5 = m.addVar(vtype=GRB.CONTINUOUS, name=\"x5\", lb=0)\n",
    "    x6 = m.addVar(vtype=GRB.CONTINUOUS, name=\"x6\", lb=0)\n",
    "    m.update()\n",
    "    m.setObjective(2*x1 - x2 + x3, GRB.MAXIMIZE)\n",
    "    m.addConstr(3*x1 + x2 + x3 + x4 == 60, \"c0\")\n",
    "    m.addConstr(x1 - x2 + 2*x3 + x5 == 10, \"c1\")\n",
    "    m.addConstr(x1 + x2 - x3 + x6 == 20, \"c2\")\n",
    "    m.optimize()\n",
    "    print ('Model status:', m.status)\n",
    "    for v in m.getVars():\n",
    "        print (v.varName, v.x)\n",
    "    print ('Obj:', m.objVal)\n",
    "except GurobiError:\n",
    "    print ('Error reported')"
   ]
  },
  {
   "cell_type": "code",
   "execution_count": 6,
   "metadata": {},
   "outputs": [
    {
     "name": "stdout",
     "output_type": "stream",
     "text": [
      "Optimize a model with 3 rows, 2 columns and 6 nonzeros\n",
      "Coefficient statistics:\n",
      "  Matrix range     [2e-01, 3e+00]\n",
      "  Objective range  [2e+00, 3e+00]\n",
      "  Bounds range     [0e+00, 0e+00]\n",
      "  RHS range        [4e+00, 2e+01]\n",
      "Presolve time: 0.01s\n",
      "\n",
      "Solved in 0 iterations and 0.01 seconds\n",
      "Infeasible or unbounded model\n"
     ]
    }
   ],
   "source": [
    "from gurobipy import *\n",
    "try:\n",
    "    m = Model(\"problem1\")\n",
    "    x1 = m.addVar(vtype=GRB.CONTINUOUS, name=\"x1\", lb=0)\n",
    "    x2 = m.addVar(vtype=GRB.CONTINUOUS, name=\"x2\", lb=0)\n",
    "    m.update()\n",
    "    m.setObjective(2*x1 + 3*x2, GRB.MAXIMIZE)\n",
    "    m.addConstr(0.5*x1 + 0.25*x2 <= 4, \"c0\")\n",
    "    m.addConstr(x1 + 3*x2 >= 20, \"c1\")\n",
    "    m.addConstr(x1 + x2 == 4, \"c2\")\n",
    "    m.optimize()\n",
    "except GurobiError:\n",
    "    print ('Error reported')"
   ]
  },
  {
   "cell_type": "code",
   "execution_count": 8,
   "metadata": {},
   "outputs": [
    {
     "name": "stdout",
     "output_type": "stream",
     "text": [
      "Optimize a model with 3 rows, 6 columns and 7 nonzeros\n",
      "Coefficient statistics:\n",
      "  Matrix range     [1e+00, 2e+00]\n",
      "  Objective range  [1e+00, 1e+00]\n",
      "  Bounds range     [0e+00, 0e+00]\n",
      "  RHS range        [4e+00, 6e+00]\n",
      "Presolve removed 3 rows and 6 columns\n",
      "Presolve time: 0.01s\n",
      "Presolve: All rows and columns removed\n",
      "Iteration    Objective       Primal Inf.    Dual Inf.      Time\n",
      "       0    1.3500000e+01   0.000000e+00   0.000000e+00      0s\n",
      "\n",
      "Solved in 0 iterations and 0.02 seconds\n",
      "Optimal objective  1.350000000e+01\n",
      "Model status: 2\n",
      "x1 4.0\n",
      "x2 0.0\n",
      "x3 0.0\n",
      "x4 0.0\n",
      "x5 6.0\n",
      "x6 2.5\n",
      "Obj: 13.5\n"
     ]
    }
   ],
   "source": [
    "from gurobipy import *\n",
    "try:\n",
    "    m = Model(\"problem33\")\n",
    "    x1 = m.addVar(vtype=GRB.CONTINUOUS, name=\"x1\", lb=0)\n",
    "    x2 = m.addVar(vtype=GRB.CONTINUOUS, name=\"x2\", lb=0)\n",
    "    x3 = m.addVar(vtype=GRB.CONTINUOUS, name=\"x3\", lb=0)\n",
    "    x4 = m.addVar(vtype=GRB.CONTINUOUS, name=\"x4\", lb=0)\n",
    "    x5 = m.addVar(vtype=GRB.CONTINUOUS, name=\"x5\", lb=0)\n",
    "    x6 = m.addVar(vtype=GRB.CONTINUOUS, name=\"x6\", lb=0)\n",
    "    m.update()\n",
    "    m.setObjective(7 + x1 - x4 + x6, GRB.MAXIMIZE)\n",
    "    m.addConstr(x5 == 6, \"c0\")\n",
    "    m.addConstr(x3 + x4 + 2*x6 == 5, \"c1\")\n",
    "    m.addConstr(x1 + x2 + x4 == 4, \"c2\")\n",
    "    m.optimize()\n",
    "    print ('Model status:', m.status)\n",
    "    for v in m.getVars():\n",
    "        print (v.varName, v.x)\n",
    "    print ('Obj:', m.objVal)\n",
    "except GurobiError:\n",
    "    print ('Error reported')"
   ]
  },
  {
   "cell_type": "code",
   "execution_count": 10,
   "metadata": {},
   "outputs": [
    {
     "name": "stdout",
     "output_type": "stream",
     "text": [
      "Optimize a model with 3 rows, 6 columns and 7 nonzeros\n",
      "Coefficient statistics:\n",
      "  Matrix range     [1e+00, 2e+00]\n",
      "  Objective range  [1e+00, 1e+00]\n",
      "  Bounds range     [0e+00, 0e+00]\n",
      "  RHS range        [4e+00, 6e+00]\n",
      "Presolve removed 0 rows and 2 columns\n",
      "Presolve time: 0.01s\n",
      "\n",
      "Solved in 0 iterations and 0.01 seconds\n",
      "Infeasible or unbounded model\n"
     ]
    }
   ],
   "source": [
    "from gurobipy import *\n",
    "try:\n",
    "    m = Model(\"problem34\")\n",
    "    x1 = m.addVar(vtype=GRB.CONTINUOUS, name=\"x1\", lb=0)\n",
    "    x2 = m.addVar(vtype=GRB.CONTINUOUS, name=\"x2\", lb=0)\n",
    "    x3 = m.addVar(vtype=GRB.CONTINUOUS, name=\"x3\", lb=0)\n",
    "    x4 = m.addVar(vtype=GRB.CONTINUOUS, name=\"x4\", lb=0)\n",
    "    x5 = m.addVar(vtype=GRB.CONTINUOUS, name=\"x5\", lb=0)\n",
    "    x6 = m.addVar(vtype=GRB.CONTINUOUS, name=\"x6\", lb=0)\n",
    "    m.update()\n",
    "    m.setObjective(7 + x1 + x4 + x6, GRB.MAXIMIZE)\n",
    "    m.addConstr(x5 == 6, \"c0\")\n",
    "    m.addConstr(x3 - x4 + 2*x6 == 5, \"c1\")\n",
    "    m.addConstr(x1 - x2 + x4 == 4, \"c2\")\n",
    "    m.optimize()\n",
    "except GurobiError:\n",
    "    print ('Error reported')"
   ]
  },
  {
   "cell_type": "code",
   "execution_count": 13,
   "metadata": {},
   "outputs": [
    {
     "name": "stdout",
     "output_type": "stream",
     "text": [
      "Optimize a model with 3 rows, 6 columns and 7 nonzeros\n",
      "Coefficient statistics:\n",
      "  Matrix range     [1e+00, 2e+00]\n",
      "  Objective range  [1e+00, 1e+00]\n",
      "  Bounds range     [0e+00, 0e+00]\n",
      "  RHS range        [4e+00, 6e+00]\n",
      "Presolve removed 2 rows and 6 columns\n",
      "Presolve time: 0.01s\n",
      "\n",
      "Solved in 0 iterations and 0.01 seconds\n",
      "Infeasible or unbounded model\n"
     ]
    }
   ],
   "source": [
    "from gurobipy import *\n",
    "try:\n",
    "    m = Model(\"problem35\")\n",
    "    x1 = m.addVar(vtype=GRB.CONTINUOUS, name=\"x1\", lb=0)\n",
    "    x2 = m.addVar(vtype=GRB.CONTINUOUS, name=\"x2\", lb=0)\n",
    "    x3 = m.addVar(vtype=GRB.CONTINUOUS, name=\"x3\", lb=0)\n",
    "    x4 = m.addVar(vtype=GRB.CONTINUOUS, name=\"x4\", lb=0)\n",
    "    x5 = m.addVar(vtype=GRB.CONTINUOUS, name=\"x5\", lb=0)\n",
    "    x6 = m.addVar(vtype=GRB.CONTINUOUS, name=\"x6\", lb=0)\n",
    "    m.update()\n",
    "    m.setObjective(7 + x1 - x4 + x6, GRB.MAXIMIZE)\n",
    "    m.addConstr(-x5 == 6, \"c0\")\n",
    "    m.addConstr(x3 + x4 + 2*x6 == 5, \"c1\")\n",
    "    m.addConstr(x1 + x2 + x4 == 4, \"c2\")\n",
    "    m.optimize()\n",
    "except GurobiError:\n",
    "    print ('Error reported')"
   ]
  },
  {
   "cell_type": "code",
   "execution_count": 1,
   "metadata": {},
   "outputs": [
    {
     "name": "stdout",
     "output_type": "stream",
     "text": [
      "Academic license - for non-commercial use only\n",
      "Optimize a model with 3 rows, 6 columns and 8 nonzeros\n",
      "Coefficient statistics:\n",
      "  Matrix range     [1e+00, 2e+00]\n",
      "  Objective range  [1e+00, 1e+00]\n",
      "  Bounds range     [0e+00, 0e+00]\n",
      "  RHS range        [4e+00, 5e+00]\n",
      "Presolve removed 3 rows and 6 columns\n",
      "Presolve time: 0.04s\n",
      "Presolve: All rows and columns removed\n",
      "Iteration    Objective       Primal Inf.    Dual Inf.      Time\n",
      "       0    1.1000000e+01   0.000000e+00   0.000000e+00      0s\n",
      "\n",
      "Solved in 0 iterations and 0.06 seconds\n",
      "Optimal objective  1.100000000e+01\n",
      "Model status: 2\n",
      "x1 4.0\n",
      "x2 0.0\n",
      "x3 5.0\n",
      "x4 0.0\n",
      "x5 0.0\n",
      "x6 0.0\n",
      "Obj: 11.0\n"
     ]
    }
   ],
   "source": [
    "from gurobipy import *\n",
    "try:\n",
    "    m = Model(\"problem36\")\n",
    "    x1 = m.addVar(vtype=GRB.CONTINUOUS, name=\"x1\", lb=0)\n",
    "    x2 = m.addVar(vtype=GRB.CONTINUOUS, name=\"x2\", lb=0)\n",
    "    x3 = m.addVar(vtype=GRB.CONTINUOUS, name=\"x3\", lb=0)\n",
    "    x4 = m.addVar(vtype=GRB.CONTINUOUS, name=\"x4\", lb=0)\n",
    "    x5 = m.addVar(vtype=GRB.CONTINUOUS, name=\"x5\", lb=0)\n",
    "    x6 = m.addVar(vtype=GRB.CONTINUOUS, name=\"x6\", lb=0)\n",
    "    m.update()\n",
    "    m.setObjective(7 + x1 - x4 + x6, GRB.MAXIMIZE)\n",
    "    m.addConstr(x5 + x6  == 0, \"c0\")\n",
    "    m.addConstr(x3 + x4 + 2*x6 == 5, \"c1\")\n",
    "    m.addConstr(x1 + x2 + x4 == 4, \"c2\")\n",
    "    m.optimize()\n",
    "    print ('Model status:', m.status)\n",
    "    for v in m.getVars():\n",
    "        print (v.varName, v.x)\n",
    "    print ('Obj:', m.objVal)\n",
    "except GurobiError:\n",
    "    print ('Error reported')"
   ]
  },
  {
   "cell_type": "code",
   "execution_count": 16,
   "metadata": {},
   "outputs": [
    {
     "name": "stdout",
     "output_type": "stream",
     "text": [
      "Optimize a model with 2 rows, 4 columns and 5 nonzeros\n",
      "Coefficient statistics:\n",
      "  Matrix range     [5e-01, 1e+00]\n",
      "  Objective range  [5e-01, 5e-01]\n",
      "  Bounds range     [0e+00, 0e+00]\n",
      "  RHS range        [1e+00, 2e+00]\n",
      "Presolve removed 2 rows and 4 columns\n",
      "Presolve time: 0.01s\n",
      "Presolve: All rows and columns removed\n",
      "Iteration    Objective       Primal Inf.    Dual Inf.      Time\n",
      "       0    2.0000000e+00   0.000000e+00   0.000000e+00      0s\n",
      "\n",
      "Solved in 0 iterations and 0.02 seconds\n",
      "Optimal objective  2.000000000e+00\n",
      "Model status: 2\n",
      "x1 2.0\n",
      "x2 0.0\n",
      "x3 0.0\n",
      "x4 1.0\n",
      "Obj: 2.0\n"
     ]
    }
   ],
   "source": [
    "from gurobipy import *\n",
    "try:\n",
    "    m = Model(\"problem6\")\n",
    "    x1 = m.addVar(vtype=GRB.CONTINUOUS, name=\"x1\", lb=0)\n",
    "    x2 = m.addVar(vtype=GRB.CONTINUOUS, name=\"x2\", lb=0)\n",
    "    x3 = m.addVar(vtype=GRB.CONTINUOUS, name=\"x3\", lb=0)\n",
    "    x4 = m.addVar(vtype=GRB.CONTINUOUS, name=\"x4\", lb=0)\n",
    "    m.update()\n",
    "    m.setObjective(2 - 0.5*x3, GRB.MAXIMIZE)\n",
    "    m.addConstr(x1 + 0.5*x2 + 0.5*x3 == 2, \"c0\")\n",
    "    m.addConstr(1.5*x3 - 0.5*x3 + x4 == 1, \"c1\")\n",
    "    m.optimize()\n",
    "    print ('Model status:', m.status)\n",
    "    for v in m.getVars():\n",
    "        print (v.varName, v.x)\n",
    "    print ('Obj:', m.objVal)\n",
    "except GurobiError:\n",
    "    print ('Error reported')"
   ]
  },
  {
   "cell_type": "code",
   "execution_count": null,
   "metadata": {},
   "outputs": [],
   "source": []
  }
 ],
 "metadata": {
  "kernelspec": {
   "display_name": "Python 3",
   "language": "python",
   "name": "python3"
  },
  "language_info": {
   "codemirror_mode": {
    "name": "ipython",
    "version": 3
   },
   "file_extension": ".py",
   "mimetype": "text/x-python",
   "name": "python",
   "nbconvert_exporter": "python",
   "pygments_lexer": "ipython3",
   "version": "3.6.5"
  }
 },
 "nbformat": 4,
 "nbformat_minor": 2
}
