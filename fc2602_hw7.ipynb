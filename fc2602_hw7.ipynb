{
 "cells": [
  {
   "cell_type": "markdown",
   "metadata": {
    "deletable": false,
    "editable": false,
    "nbgrader": {
     "checksum": "3904389c618f2b8da27f1103788fcf5e",
     "grade": false,
     "grade_id": "cell-c9bc6e54a6b7eb86",
     "locked": true,
     "schema_version": 1,
     "solution": false
    }
   },
   "source": [
    "**Q**: Create a object that represents a store. Have the initialization method take the square footage of the store. Create a method that can calculate the electrical costs for the store given:\n",
    "\n",
    "- $0.15 per kWh\n",
    "- kWh per square foot per hour of 0.19\n",
    "\n",
    "Ensure your class has the following API:\n",
    "\n",
    "Instance attributes: \n",
    "- `square_footage`\n",
    "\n",
    "Class level attributes:\n",
    "- DOLLARS_PER_KWH\n",
    "- KWH_PER_SQUARE_FOOTAGE_PER_HOUR\n",
    "\n",
    "[2 points]"
   ]
  },
  {
   "cell_type": "code",
   "execution_count": 1,
   "metadata": {
    "deletable": false,
    "nbgrader": {
     "checksum": "e52069d21697b30db32d49c865f5aa65",
     "grade": false,
     "grade_id": "cell-e0ff639912440f53",
     "locked": false,
     "schema_version": 1,
     "solution": true
    }
   },
   "outputs": [],
   "source": [
    "class Store:\n",
    "    DOLLARS_PER_KWH = 0.15\n",
    "    KWH_PER_SQUARE_FOOTAGE_PER_HOUR = 0.19\n",
    "    \n",
    "    def __init__(self, square_footage):  \n",
    "        self.square_footage = square_footage\n",
    "\n",
    "    def electrical_cost(self, hour):\n",
    "        square_footage = hour*self.square_footage*Store.DOLLARS_PER_KWH*Store.KWH_PER_SQUARE_FOOTAGE_PER_HOUR\n",
    "        return square_footage \n",
    "    #raise NotImplementedError()"
   ]
  },
  {
   "cell_type": "code",
   "execution_count": 2,
   "metadata": {
    "deletable": false,
    "editable": false,
    "nbgrader": {
     "checksum": "f1bd89ec78d2d573dcf9822d5f3c9199",
     "grade": true,
     "grade_id": "cell-e4863bba06d08e3f",
     "locked": true,
     "points": 0.5,
     "schema_version": 1,
     "solution": false
    }
   },
   "outputs": [],
   "source": [
    "### BEGIN TESTS\n",
    "assert Store(2000).square_footage == 2000\n",
    "assert not hasattr(Store, 'square_footage')\n",
    "### END TESTS"
   ]
  },
  {
   "cell_type": "code",
   "execution_count": 3,
   "metadata": {
    "deletable": false,
    "editable": false,
    "nbgrader": {
     "checksum": "0c2513fcc1ad0aea144cd7e57fe4c8b1",
     "grade": true,
     "grade_id": "cell-47704c4e3e538b07",
     "locked": true,
     "points": 0.5,
     "schema_version": 1,
     "solution": false
    }
   },
   "outputs": [],
   "source": [
    "### BEGIN TESTS\n",
    "assert hasattr(Store, 'DOLLARS_PER_KWH')\n",
    "assert hasattr(Store, 'KWH_PER_SQUARE_FOOTAGE_PER_HOUR')\n",
    "### END TESTS"
   ]
  },
  {
   "cell_type": "code",
   "execution_count": 4,
   "metadata": {
    "deletable": false,
    "editable": false,
    "nbgrader": {
     "checksum": "5382925607698b210d8dcc996671a33d",
     "grade": true,
     "grade_id": "cell-e9ab2e3e055a711f",
     "locked": true,
     "points": 1,
     "schema_version": 1,
     "solution": false
    }
   },
   "outputs": [],
   "source": [
    "### BEGIN TESTS\n",
    "assert Store(2000).electrical_cost(900) == 51300\n",
    "### END TESTS"
   ]
  },
  {
   "cell_type": "markdown",
   "metadata": {},
   "source": [
    "---"
   ]
  },
  {
   "cell_type": "markdown",
   "metadata": {
    "deletable": false,
    "editable": false,
    "nbgrader": {
     "checksum": "e9cbb23306d26e01964e252d659a8c9b",
     "grade": false,
     "grade_id": "cell-b242d4bfddbf0838",
     "locked": true,
     "schema_version": 1,
     "solution": false
    }
   },
   "source": [
    "**Q**: Create a counter class that takes a string and can produce (via a method named count) a `dict` containing each word in the string as its keys and the counts of each word in the string as its values. Words are any token separated by a space. The class should not be case sensitive (ie. \"It\" and \"it\" are the same word).\n",
    "\n",
    "\n",
    "```python\n",
    ">>> c = Counter('This is my best string. It is a great string.')\n",
    ">>> c.count()\n",
    "{'a': 1,\n",
    " 'best': 1,\n",
    " 'great': 1,\n",
    " 'is': 2,\n",
    " 'it': 1,\n",
    " 'my': 1,\n",
    " 'string.': 2,\n",
    " 'this': 1}\n",
    " ```\n",
    " \n",
    "**Class API**\n",
    "\n",
    "Instance attributes:\n",
    "  - \"string\"\n",
    "  \n",
    "You can not use the collections module.\n",
    " \n",
    "[2 points]"
   ]
  },
  {
   "cell_type": "code",
   "execution_count": 5,
   "metadata": {
    "deletable": false,
    "nbgrader": {
     "checksum": "e107b0a887fc915580c72beea0a30e64",
     "grade": false,
     "grade_id": "cell-0be5d346f805f3fb",
     "locked": false,
     "schema_version": 1,
     "solution": true
    }
   },
   "outputs": [],
   "source": [
    "class Counter:\n",
    "    def __init__(self, string):  \n",
    "        self.string = string\n",
    "    def count(self):\n",
    "        d = dict()\n",
    "        words = self.string.lower().split()\n",
    "        for word in words:\n",
    "            if word not in d:\n",
    "                d[word] = 1\n",
    "            else:\n",
    "                d[word] += 1                \n",
    "        return d\n",
    "    #raise NotImplementedError()"
   ]
  },
  {
   "cell_type": "code",
   "execution_count": 6,
   "metadata": {
    "deletable": false,
    "editable": false,
    "nbgrader": {
     "checksum": "a0fa89dcb94301e8814c7edc759b3af8",
     "grade": true,
     "grade_id": "cell-59639940597f3439",
     "locked": true,
     "points": 0.5,
     "schema_version": 1,
     "solution": false
    }
   },
   "outputs": [],
   "source": [
    "### BEGIN TESTS\n",
    "counter = Counter('This is my best string. It is a great string.')\n",
    "assert len(counter.count()) == 8\n",
    "### END TESTS"
   ]
  },
  {
   "cell_type": "code",
   "execution_count": 7,
   "metadata": {
    "deletable": false,
    "editable": false,
    "nbgrader": {
     "checksum": "974d09e439688deaba63d227760e07dd",
     "grade": true,
     "grade_id": "cell-ea0b8e76389a0ae2",
     "locked": true,
     "points": 0.5,
     "schema_version": 1,
     "solution": false
    }
   },
   "outputs": [],
   "source": [
    "### BEGIN TESTS\n",
    "counter = Counter('This is my best string. It is a great string.')\n",
    "assert hasattr(counter, 'string')\n",
    "assert not hasattr(Counter, 'string')\n",
    "### END TESTS"
   ]
  },
  {
   "cell_type": "code",
   "execution_count": 8,
   "metadata": {
    "deletable": false,
    "editable": false,
    "nbgrader": {
     "checksum": "dcb1cf264819c83eb28d79afd041741c",
     "grade": true,
     "grade_id": "cell-91fa2691c9bea2eb",
     "locked": true,
     "points": 1,
     "schema_version": 1,
     "solution": false
    }
   },
   "outputs": [],
   "source": [
    "### BEGIN HIDDEN TESTS\n",
    "counter = Counter('What what what? What is this? Do you know what this is?')\n",
    "result = counter.count()\n",
    "expected = {\n",
    "    'do': 1,\n",
    "    'is': 1,\n",
    "    'is?': 1,\n",
    "    'know': 1,\n",
    "    'this': 1,\n",
    "    'this?': 1,\n",
    "    'what': 4,\n",
    "    'what?': 1,\n",
    "    'you': 1\n",
    "}\n",
    "assert result == expected\n",
    "### END HIDDEN TESTS"
   ]
  },
  {
   "cell_type": "markdown",
   "metadata": {},
   "source": [
    "---"
   ]
  },
  {
   "cell_type": "markdown",
   "metadata": {
    "deletable": false,
    "editable": false,
    "nbgrader": {
     "checksum": "df862fcf08a2aac18eacf1ed5c937c6e",
     "grade": false,
     "grade_id": "cell-4459d9e5b57a0683",
     "locked": true,
     "schema_version": 1,
     "solution": false
    }
   },
   "source": [
    "**Q**: Update the counter class to have the appropriate methods for presentation when being passed to `repr` and `str`. `repr` should return the object class name and a truncated version of the counter's string. The string should be truncated to 10 characters and an ellipsis added. `str` should return the object class name and the key count. [1 point]\n",
    "\n",
    "```python\n",
    ">>> obj = Counter('Fe Fi Fo Fum, where is my drum')\n",
    ">>> repr(obj)\n",
    "<Counter 'Fe Fi Fo Fum, ...'>\n",
    ">>> str(obj)\n",
    "'Counter(8)'\n",
    "```"
   ]
  },
  {
   "cell_type": "code",
   "execution_count": 9,
   "metadata": {
    "deletable": false,
    "nbgrader": {
     "checksum": "7916798bf3e7903e017a3c38f168b06b",
     "grade": false,
     "grade_id": "cell-eff92fe808b528d9",
     "locked": false,
     "schema_version": 1,
     "solution": true
    }
   },
   "outputs": [],
   "source": [
    "class Counter:\n",
    "    def __init__(self, string):\n",
    "        self.string = string\n",
    " \n",
    "    def count(self):\n",
    "        d = dict()\n",
    "        words = self.string.lower().split()\n",
    "        for word in words:\n",
    "            if word not in d:\n",
    "                d[word] = 1\n",
    "            else:\n",
    "                d[word] += 1                \n",
    "        return d\n",
    " \n",
    "    def __repr__(self):\n",
    "        return '<' + self.__class__.__name__ + \" '\" + self.string[:10] + \"...'>\"\n",
    "    \n",
    "    def __str__(self):\n",
    "        return self.__class__.__name__ + \"(\" + str(len(self.count().keys())) + \")\"\n",
    "    "
   ]
  },
  {
   "cell_type": "code",
   "execution_count": 10,
   "metadata": {
    "deletable": false,
    "editable": false,
    "nbgrader": {
     "checksum": "84f93fb05f579cd357424a0e2b4b4af8",
     "grade": true,
     "grade_id": "cell-42a5d9c016cae56f",
     "locked": true,
     "points": 0.5,
     "schema_version": 1,
     "solution": false
    }
   },
   "outputs": [],
   "source": [
    "### BEGIN HIDDEN TESTS\n",
    "assert hasattr(Counter, '__repr__')\n",
    "assert hasattr(Counter, '__str__')\n",
    "### END HIDDEN TESTS"
   ]
  },
  {
   "cell_type": "code",
   "execution_count": 11,
   "metadata": {
    "deletable": false,
    "editable": false,
    "nbgrader": {
     "checksum": "adc68d16d6b743255007c289a57d9445",
     "grade": true,
     "grade_id": "cell-76d7e759c0c50b24",
     "locked": true,
     "points": 0.25,
     "schema_version": 1,
     "solution": false
    }
   },
   "outputs": [],
   "source": [
    "### BEGIN TESTS\n",
    "counter = Counter('This is my best string. It is a great string.')\n",
    "assert repr(counter) == \"<Counter 'This is my...'>\"\n",
    "### END TESTS"
   ]
  },
  {
   "cell_type": "code",
   "execution_count": 12,
   "metadata": {
    "deletable": false,
    "editable": false,
    "nbgrader": {
     "checksum": "f6eef9fb2a92fda7bc9a0b1c81c4b4a4",
     "grade": true,
     "grade_id": "cell-d5d109b50b154b18",
     "locked": true,
     "points": 0.25,
     "schema_version": 1,
     "solution": false
    }
   },
   "outputs": [],
   "source": [
    "### BEGIN TESTS\n",
    "counter = Counter('This is my best string. It is a great string.')\n",
    "assert str(counter) == 'Counter(8)'\n",
    "### END TESTS"
   ]
  },
  {
   "cell_type": "markdown",
   "metadata": {
    "deletable": false,
    "editable": false,
    "nbgrader": {
     "checksum": "c3e8bde805351fff6a3d2bd91a647d29",
     "grade": false,
     "grade_id": "cell-80bd99f06e0f551a",
     "locked": true,
     "schema_version": 1,
     "solution": false
    }
   },
   "source": [
    "**Q**: Create a custom exception for a severe lack of parties. It should be called `SevereLackOfPartiesError` and should subclass `ValueError`. The class should have a docstring that describes what the error represents. Use your imagination for the exact text. \n",
    "\n",
    "[1 point]"
   ]
  },
  {
   "cell_type": "code",
   "execution_count": 19,
   "metadata": {
    "deletable": false,
    "nbgrader": {
     "checksum": "4a8a7947db5dcb7e18b73a51f713317c",
     "grade": false,
     "grade_id": "cell-7368367ae633aef9",
     "locked": false,
     "schema_version": 1,
     "solution": true
    }
   },
   "outputs": [],
   "source": [
    "#class SevereLackOfPartiesError(ValueError):\n",
    " #   '''A severe lack of parties error occurs!'''\n",
    "#raise NotImplementedError()\n",
    "\n",
    "\n",
    "class SevereLackOfPartiesError(ValueError):\n",
    "    pass  \n",
    "class ValueError:\n",
    "    '''A severe lack of parties error occurs！'''"
   ]
  },
  {
   "cell_type": "code",
   "execution_count": 20,
   "metadata": {
    "deletable": false,
    "editable": false,
    "nbgrader": {
     "checksum": "cad0d281c8ce7afd2d351a6336678daf",
     "grade": true,
     "grade_id": "cell-78f404be90d25d2e",
     "locked": true,
     "points": 0.5,
     "schema_version": 1,
     "solution": false
    }
   },
   "outputs": [
    {
     "ename": "AssertionError",
     "evalue": "",
     "output_type": "error",
     "traceback": [
      "\u001b[0;31m---------------------------------------------------------------------------\u001b[0m",
      "\u001b[0;31mAssertionError\u001b[0m                            Traceback (most recent call last)",
      "\u001b[0;32m<ipython-input-20-f00f825445ef>\u001b[0m in \u001b[0;36m<module>\u001b[0;34m()\u001b[0m\n\u001b[1;32m      1\u001b[0m \u001b[0;31m### BEGIN HIDDEN TESTS\u001b[0m\u001b[0;34m\u001b[0m\u001b[0;34m\u001b[0m\u001b[0m\n\u001b[0;32m----> 2\u001b[0;31m \u001b[0;32massert\u001b[0m \u001b[0missubclass\u001b[0m\u001b[0;34m(\u001b[0m\u001b[0mSevereLackOfPartiesError\u001b[0m\u001b[0;34m,\u001b[0m \u001b[0mValueError\u001b[0m\u001b[0;34m)\u001b[0m\u001b[0;34m\u001b[0m\u001b[0m\n\u001b[0m\u001b[1;32m      3\u001b[0m \u001b[0;31m### END HIDDEN TESTS\u001b[0m\u001b[0;34m\u001b[0m\u001b[0;34m\u001b[0m\u001b[0m\n",
      "\u001b[0;31mAssertionError\u001b[0m: "
     ]
    }
   ],
   "source": [
    "### BEGIN HIDDEN TESTS\n",
    "assert issubclass(SevereLackOfPartiesError, ValueError)\n",
    "### END HIDDEN TESTS"
   ]
  },
  {
   "cell_type": "code",
   "execution_count": 18,
   "metadata": {
    "deletable": false,
    "editable": false,
    "nbgrader": {
     "checksum": "7e64e46b8ee09e94ea659de04a5e7349",
     "grade": true,
     "grade_id": "cell-1b63d2e6166363a1",
     "locked": true,
     "points": 0.5,
     "schema_version": 1,
     "solution": false
    }
   },
   "outputs": [
    {
     "ename": "AssertionError",
     "evalue": "",
     "output_type": "error",
     "traceback": [
      "\u001b[0;31m---------------------------------------------------------------------------\u001b[0m",
      "\u001b[0;31mAssertionError\u001b[0m                            Traceback (most recent call last)",
      "\u001b[0;32m<ipython-input-18-dea7a247c36f>\u001b[0m in \u001b[0;36m<module>\u001b[0;34m()\u001b[0m\n\u001b[1;32m      1\u001b[0m \u001b[0;31m### BEGIN HIDDEN TESTS\u001b[0m\u001b[0;34m\u001b[0m\u001b[0;34m\u001b[0m\u001b[0m\n\u001b[0;32m----> 2\u001b[0;31m \u001b[0;32massert\u001b[0m \u001b[0mSevereLackOfPartiesError\u001b[0m\u001b[0;34m.\u001b[0m\u001b[0m__doc__\u001b[0m\u001b[0;34m\u001b[0m\u001b[0m\n\u001b[0m\u001b[1;32m      3\u001b[0m \u001b[0;31m### END HIDDEN TESTS\u001b[0m\u001b[0;34m\u001b[0m\u001b[0;34m\u001b[0m\u001b[0m\n",
      "\u001b[0;31mAssertionError\u001b[0m: "
     ]
    }
   ],
   "source": [
    "### BEGIN HIDDEN TESTS\n",
    "assert SevereLackOfPartiesError.__doc__\n",
    "### END HIDDEN TESTS"
   ]
  },
  {
   "cell_type": "markdown",
   "metadata": {},
   "source": [
    "---"
   ]
  },
  {
   "cell_type": "markdown",
   "metadata": {
    "deletable": false,
    "editable": false,
    "nbgrader": {
     "checksum": "eeadec35584b817d12c6edb5bcadebe9",
     "grade": false,
     "grade_id": "cell-62f4a3711318b2a8",
     "locked": true,
     "schema_version": 1,
     "solution": false
    }
   },
   "source": [
    "**Q**: Create a class `Str` that subclasses `str`. Add a method to the subclass that checks if the string does not start with a given string. Call that method `notstartswith`. This class should only take up 3 lines of code however you will not be graded on the length of your class.\n",
    "\n",
    "[1 point]"
   ]
  },
  {
   "cell_type": "code",
   "execution_count": 16,
   "metadata": {
    "deletable": false,
    "nbgrader": {
     "checksum": "0569698aab4c3f483e5bcf7a37832f19",
     "grade": false,
     "grade_id": "cell-931411951b8973e6",
     "locked": false,
     "schema_version": 1,
     "solution": true
    }
   },
   "outputs": [],
   "source": [
    "class Str(str):\n",
    "    def notstartswith(self, string):\n",
    "        return self[0:len(string)] != string\n",
    "#raise NotImplementedError()"
   ]
  },
  {
   "cell_type": "code",
   "execution_count": 17,
   "metadata": {},
   "outputs": [
    {
     "data": {
      "text/plain": [
       "True"
      ]
     },
     "execution_count": 17,
     "metadata": {},
     "output_type": "execute_result"
    }
   ],
   "source": [
    "a = Str('asdsdsa')\n",
    "a.notstartswith('b')\n"
   ]
  },
  {
   "cell_type": "code",
   "execution_count": 18,
   "metadata": {
    "deletable": false,
    "editable": false,
    "nbgrader": {
     "checksum": "50091d66781134e4c0084b708c6f9396",
     "grade": true,
     "grade_id": "cell-dde9e6cf99caf6bc",
     "locked": true,
     "points": 0.5,
     "schema_version": 1,
     "solution": false
    }
   },
   "outputs": [],
   "source": [
    "### BEGIN HIDDEN TESTS\n",
    "assert issubclass(Str, str)\n",
    "### END HIDDEN TESTS"
   ]
  },
  {
   "cell_type": "code",
   "execution_count": 19,
   "metadata": {
    "deletable": false,
    "editable": false,
    "nbgrader": {
     "checksum": "9fc7d18dab85f54439e8bd6e8c32cc34",
     "grade": true,
     "grade_id": "cell-767d16e4e70c6601",
     "locked": true,
     "points": 0.25,
     "schema_version": 1,
     "solution": false
    }
   },
   "outputs": [],
   "source": [
    "### BEGIN HIDDEN TESTS\n",
    "assert Str('This string does not ...').notstartswith('Hi')\n",
    "### END HIDDEN TESTS"
   ]
  },
  {
   "cell_type": "code",
   "execution_count": 20,
   "metadata": {
    "deletable": false,
    "editable": false,
    "nbgrader": {
     "checksum": "109706f9c29001aeb63fd9c417de1ab5",
     "grade": true,
     "grade_id": "cell-7f7773df3332732e",
     "locked": true,
     "points": 0.25,
     "schema_version": 1,
     "solution": false
    }
   },
   "outputs": [],
   "source": [
    "### BEGIN HIDDEN TESTS\n",
    "assert not Str('This string does not ...').notstartswith('This')\n",
    "### END HIDDEN TESTS"
   ]
  },
  {
   "cell_type": "markdown",
   "metadata": {},
   "source": [
    "----"
   ]
  },
  {
   "cell_type": "markdown",
   "metadata": {
    "collapsed": true,
    "deletable": false,
    "editable": false,
    "nbgrader": {
     "checksum": "9c52ed440ce2ff1bacd8073e7a4948e1",
     "grade": false,
     "grade_id": "cell-27a4aba0217b0a56",
     "locked": true,
     "schema_version": 1,
     "solution": false
    }
   },
   "source": [
    "**Q**: Create a `BankAccount` class that is instantiated with an account number and an optional initial balance. Add methods to withdraw and deposit to the account's balance. Also, add a method that allows for the casting of objects of this class to a string.\n",
    "\n",
    "    a = BankAccount(12345678, balance=10)\n",
    "    a.deposit(5)\n",
    "    a.withdraw(3)\n",
    "    str(a)\n",
    "\n",
    "    'Account ID: 12345678 - Balance: 12'\n",
    "\n",
    "[2 points]"
   ]
  },
  {
   "cell_type": "code",
   "execution_count": 7,
   "metadata": {
    "deletable": false,
    "nbgrader": {
     "checksum": "930e1a812c6e126d08992fdd2b29bc82",
     "grade": false,
     "grade_id": "cell-31e546afd67a9412",
     "locked": false,
     "schema_version": 1,
     "solution": true
    }
   },
   "outputs": [],
   "source": [
    "class BankAccount:\n",
    "    def __init__(self, account_id, balance=0):\n",
    "        self.account_id = account_id\n",
    "        self.balance = balance\n",
    "    def deposit(self, money):\n",
    "        self.balance += money\n",
    "    def withdraw(self, money):\n",
    "        self.balance -= money\n",
    "    def __str__(self):\n",
    "        return f'Account ID: {self.account_id} - Balance: {self.balance}'\n",
    "        \n",
    "#raise NotImplementedError()"
   ]
  },
  {
   "cell_type": "code",
   "execution_count": 8,
   "metadata": {
    "deletable": false,
    "editable": false,
    "nbgrader": {
     "checksum": "b3c2fadd1abcb876830f47164fba350f",
     "grade": true,
     "grade_id": "cell-78f78a2ea5d08b99",
     "locked": true,
     "points": 0.5,
     "schema_version": 1,
     "solution": false
    }
   },
   "outputs": [],
   "source": [
    "### BEGIN TESTS\n",
    "assert str(BankAccount(4839283, balance=2010)) == 'Account ID: 4839283 - Balance: 2010'\n",
    "### END TESTS"
   ]
  },
  {
   "cell_type": "code",
   "execution_count": 9,
   "metadata": {
    "deletable": false,
    "editable": false,
    "nbgrader": {
     "checksum": "33bc360ba930fae90cf28de77dd25d11",
     "grade": true,
     "grade_id": "cell-e706bb44eae7db75",
     "locked": true,
     "points": 0.5,
     "schema_version": 1,
     "solution": false
    }
   },
   "outputs": [],
   "source": [
    "### BEGIN TESTS\n",
    "assert BankAccount(1).balance == 0\n",
    "### END TESTS"
   ]
  },
  {
   "cell_type": "code",
   "execution_count": 10,
   "metadata": {
    "deletable": false,
    "editable": false,
    "nbgrader": {
     "checksum": "55b77d44a88bba3462c51a02b7c23b25",
     "grade": true,
     "grade_id": "cell-da11f9aeadad2c39",
     "locked": true,
     "points": 0.5,
     "schema_version": 1,
     "solution": false
    }
   },
   "outputs": [],
   "source": [
    "### BEGIN TESTS\n",
    "a = BankAccount(1)\n",
    "a.deposit(150)\n",
    "assert a.balance == 150\n",
    "### END TESTS"
   ]
  },
  {
   "cell_type": "code",
   "execution_count": 11,
   "metadata": {
    "deletable": false,
    "editable": false,
    "nbgrader": {
     "checksum": "924c65c9d4325a5b429debe00f1d292e",
     "grade": true,
     "grade_id": "cell-0f6bc2f6bd8c7a9c",
     "locked": true,
     "points": 0.5,
     "schema_version": 1,
     "solution": false
    }
   },
   "outputs": [],
   "source": [
    "### BEGIN TESTS\n",
    "a = BankAccount(1)\n",
    "a.deposit(150)\n",
    "a.withdraw(27)\n",
    "assert a.balance == 123\n",
    "### END TESTS"
   ]
  },
  {
   "cell_type": "markdown",
   "metadata": {},
   "source": [
    "----"
   ]
  },
  {
   "cell_type": "markdown",
   "metadata": {
    "deletable": false,
    "editable": false,
    "nbgrader": {
     "checksum": "575f174f4c73d404e7ea0adc7ea5eda5",
     "grade": false,
     "grade_id": "cell-9edfb04d2e47b86d",
     "locked": true,
     "schema_version": 1,
     "solution": false
    }
   },
   "source": [
    "**Q**: Subclass the `BankAccount` class from the previous question to create a `MinBalanceBankAccount` class. This class should require a minimum balance at all times and should raise an exception (of the type `ValueError`) when an attempt to drop the balance below the minumum occurs. The `MinBalanceBankAccount` should be instantiated with the account number, inital balance, and the minimum balance. No error checking is necessary on instantiation.\n",
    "\n",
    "```\n",
    "a = MinBalanceBankAccount(account_id=1, balance=100, minimum_balance=10)\n",
    "a.withdraw(100)\n",
    "...\n",
    "ValueError: Sorry, minimum balance must be maintained.\n",
    "```\n",
    "\n",
    "\n",
    "[2 points]"
   ]
  },
  {
   "cell_type": "code",
   "execution_count": 12,
   "metadata": {
    "deletable": false,
    "nbgrader": {
     "checksum": "6267acaf34f3096c30d8acf7292dd0a4",
     "grade": false,
     "grade_id": "cell-ffede70c71976fef",
     "locked": false,
     "schema_version": 1,
     "solution": true
    }
   },
   "outputs": [],
   "source": [
    "class MinBalanceBankAccount(BankAccount):\n",
    "    def __init__(self, account_id, balance, minimum_balance):\n",
    "        self.minimum_balance = minimum_balance\n",
    "        BankAccount.__init__(self, account_id, balance)\n",
    "\n",
    "    @property\n",
    "    def balance(self):\n",
    "        return self._balance\n",
    "    \n",
    "    @balance.setter    \n",
    "    def balance(self, x):\n",
    "        if x < self.minimum_balance:\n",
    "            raise ValueError('Sorry, minimum balance must be maintained.')\n",
    "        else:    \n",
    "            self._balance = x  \n",
    "    \n",
    "#raise NotImplementedError()"
   ]
  },
  {
   "cell_type": "code",
   "execution_count": 13,
   "metadata": {
    "deletable": false,
    "editable": false,
    "nbgrader": {
     "checksum": "c77b9f2b5ac7eec3d6ab513d00b42678",
     "grade": true,
     "grade_id": "cell-4d189116d6cb3d51",
     "locked": true,
     "points": 0.5,
     "schema_version": 1,
     "solution": false
    }
   },
   "outputs": [],
   "source": [
    "### BEGIN TESTS\n",
    "try:\n",
    "    MinBalanceBankAccount(1, 100, 10).withdraw(100)\n",
    "    assert False, 'Should have raised value Error'\n",
    "except ValueError as e:\n",
    "    assert str(e) == 'Sorry, minimum balance must be maintained.'\n",
    "### END TESTS"
   ]
  },
  {
   "cell_type": "code",
   "execution_count": 14,
   "metadata": {
    "deletable": false,
    "editable": false,
    "nbgrader": {
     "checksum": "88b4291a2be7b1f70688a3effd08a944",
     "grade": true,
     "grade_id": "cell-496de9ecb2b38244",
     "locked": true,
     "points": 0.5,
     "schema_version": 1,
     "solution": false
    }
   },
   "outputs": [
    {
     "ename": "KeyError",
     "evalue": "'withdraw'",
     "output_type": "error",
     "traceback": [
      "\u001b[0;31m---------------------------------------------------------------------------\u001b[0m",
      "\u001b[0;31mKeyError\u001b[0m                                  Traceback (most recent call last)",
      "\u001b[0;32m<ipython-input-14-2373a11adcc7>\u001b[0m in \u001b[0;36m<module>\u001b[0;34m()\u001b[0m\n\u001b[1;32m      1\u001b[0m \u001b[0;31m### BEGIN HIDDEN TESTS\u001b[0m\u001b[0;34m\u001b[0m\u001b[0;34m\u001b[0m\u001b[0m\n\u001b[0;32m----> 2\u001b[0;31m \u001b[0;32massert\u001b[0m \u001b[0;34m'super'\u001b[0m \u001b[0;32min\u001b[0m \u001b[0mMinBalanceBankAccount\u001b[0m\u001b[0;34m.\u001b[0m\u001b[0m__dict__\u001b[0m\u001b[0;34m[\u001b[0m\u001b[0;34m'withdraw'\u001b[0m\u001b[0;34m]\u001b[0m\u001b[0;34m.\u001b[0m\u001b[0m__code__\u001b[0m\u001b[0;34m.\u001b[0m\u001b[0mco_names\u001b[0m\u001b[0;34m\u001b[0m\u001b[0m\n\u001b[0m\u001b[1;32m      3\u001b[0m \u001b[0;31m### END HIDDEN TESTS\u001b[0m\u001b[0;34m\u001b[0m\u001b[0;34m\u001b[0m\u001b[0m\n",
      "\u001b[0;31mKeyError\u001b[0m: 'withdraw'"
     ]
    }
   ],
   "source": [
    "### BEGIN HIDDEN TESTS\n",
    "assert 'super' in MinBalanceBankAccount.__dict__['withdraw'].__code__.co_names\n",
    "### END HIDDEN TESTS"
   ]
  },
  {
   "cell_type": "code",
   "execution_count": 15,
   "metadata": {
    "deletable": false,
    "editable": false,
    "nbgrader": {
     "checksum": "2d2347ada3f20a03e8c073f0fdbe5cf9",
     "grade": true,
     "grade_id": "cell-74b6dba911c7df84",
     "locked": true,
     "points": 0.5,
     "schema_version": 1,
     "solution": false
    }
   },
   "outputs": [],
   "source": [
    "### BEGIN TESTS\n",
    "assert issubclass(MinBalanceBankAccount, BankAccount)\n",
    "### END TESTS"
   ]
  },
  {
   "cell_type": "code",
   "execution_count": 30,
   "metadata": {
    "deletable": false,
    "editable": false,
    "nbgrader": {
     "checksum": "51ecf2ef6528b0747fb5d9bbfd2e4787",
     "grade": true,
     "grade_id": "cell-3d7deeb06f900ce3",
     "locked": true,
     "points": 0.5,
     "schema_version": 1,
     "solution": false
    }
   },
   "outputs": [],
   "source": [
    "### BEGIN TESTS\n",
    "a = MinBalanceBankAccount(1, 100, 10)\n",
    "a.deposit(150)\n",
    "a.withdraw(27)\n",
    "assert a.balance == 223\n",
    "### END TESTS"
   ]
  },
  {
   "cell_type": "markdown",
   "metadata": {},
   "source": [
    "---"
   ]
  },
  {
   "cell_type": "markdown",
   "metadata": {
    "collapsed": true
   },
   "source": [
    "**Extra Practice** Create a class that produces objects that are both iterables and iterators. "
   ]
  },
  {
   "cell_type": "code",
   "execution_count": 31,
   "metadata": {
    "deletable": false,
    "nbgrader": {
     "checksum": "ddaea47c9fb44a972ad65c6e8a31b24c",
     "grade": false,
     "grade_id": "cell-acfb6cbf62089d2f",
     "locked": false,
     "schema_version": 1,
     "solution": true
    }
   },
   "outputs": [
    {
     "ename": "NotImplementedError",
     "evalue": "",
     "output_type": "error",
     "traceback": [
      "\u001b[0;31m---------------------------------------------------------------------------\u001b[0m",
      "\u001b[0;31mNotImplementedError\u001b[0m                       Traceback (most recent call last)",
      "\u001b[0;32m<ipython-input-31-a3eb14613b08>\u001b[0m in \u001b[0;36m<module>\u001b[0;34m()\u001b[0m\n\u001b[1;32m      1\u001b[0m \u001b[0;31m# YOUR CODE HERE\u001b[0m\u001b[0;34m\u001b[0m\u001b[0;34m\u001b[0m\u001b[0m\n\u001b[0;32m----> 2\u001b[0;31m \u001b[0;32mraise\u001b[0m \u001b[0mNotImplementedError\u001b[0m\u001b[0;34m(\u001b[0m\u001b[0;34m)\u001b[0m\u001b[0;34m\u001b[0m\u001b[0m\n\u001b[0m",
      "\u001b[0;31mNotImplementedError\u001b[0m: "
     ]
    }
   ],
   "source": [
    "# YOUR CODE HERE\n",
    "raise NotImplementedError()"
   ]
  }
 ],
 "metadata": {
  "anaconda-cloud": {},
  "kernelspec": {
   "display_name": "Python 3",
   "language": "python",
   "name": "python3"
  },
  "language_info": {
   "codemirror_mode": {
    "name": "ipython",
    "version": 3
   },
   "file_extension": ".py",
   "mimetype": "text/x-python",
   "name": "python",
   "nbconvert_exporter": "python",
   "pygments_lexer": "ipython3",
   "version": "3.6.5"
  }
 },
 "nbformat": 4,
 "nbformat_minor": 1
}
