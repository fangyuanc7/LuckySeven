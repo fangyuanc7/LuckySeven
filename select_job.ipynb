{
 "cells": [
  {
   "cell_type": "code",
   "execution_count": 1,
   "metadata": {},
   "outputs": [],
   "source": [
    "def select_job():\n",
    "    company_val = str(company.value)\n",
    "    city_val = str(city.value)\n",
    "    keyword = str(keyword.value)\n",
    "    selected = data[\n",
    "        (data.Salary_Upper_Bound >= salary_slider.value) &\n",
    "        (data.Salary_Lower_Bound <= salary_slider.value) &\n",
    "    ]\n",
    "    if (company_val != \"All\"):\n",
    "        data = data[data.company.str.contains(company_val)==True]\n",
    "    if (city_val != \"All\"):\n",
    "        data = data[data.city.str.contains(city_val)==True]\n",
    "    if (keyword != \"\"):\n",
    "        data = data[data.Description.str.contains(keyword)==True]\n",
    "    return selected"
   ]
  },
  {
   "cell_type": "code",
   "execution_count": null,
   "metadata": {},
   "outputs": [],
   "source": []
  }
 ],
 "metadata": {
  "kernelspec": {
   "display_name": "Python 3",
   "language": "python",
   "name": "python3"
  },
  "language_info": {
   "codemirror_mode": {
    "name": "ipython",
    "version": 3
   },
   "file_extension": ".py",
   "mimetype": "text/x-python",
   "name": "python",
   "nbconvert_exporter": "python",
   "pygments_lexer": "ipython3",
   "version": "3.6.5"
  }
 },
 "nbformat": 4,
 "nbformat_minor": 2
}
