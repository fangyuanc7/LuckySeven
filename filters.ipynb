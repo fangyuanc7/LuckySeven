{
 "cells": [
  {
   "cell_type": "code",
   "execution_count": 1,
   "metadata": {},
   "outputs": [],
   "source": [
    "import numpy as np\n",
    "import pandas as pd\n",
    "import ast\n",
    "\n",
    "from bokeh.io import curdoc\n",
    "from bokeh.layouts import row, widgetbox\n",
    "from bokeh.models import ColumnDataSource\n",
    "from bokeh.models.widgets import Slider, Select, TextInput\n",
    "from bokeh.plotting import figure, output_file, show\n",
    "from bokeh.models.widgets import RangeSlider, Button, DataTable, TableColumn, NumberFormatter\n",
    "from os.path import dirname, join\n",
    "\n",
    "salary_slider = Slider(title=\"Minimum annul salary)\", start=0, end=200, value=20, step=1)\n",
    "salary_slider.on_change('value', lambda attr, old, new: update())\n",
    "\n",
    "city = Select(title=\"Location\", value=\"All\", options=open('city.txt').read().split('\\n'))\n",
    "city.on_change('value', lambda attr, old, new: update())\n",
    "\n",
    "keyword = TextInput(title=\"Keywords\")\n",
    "keyword.on_change('value', lambda attr, old, new: update())\n",
    "\n",
    "company = Select(title=\"Company\", value=\"All\", options=open('company.txt').read().split('\\n'))\n",
    "company.on_change('value', lambda attr, old, new: update())"
   ]
  },
  {
   "cell_type": "code",
   "execution_count": null,
   "metadata": {},
   "outputs": [],
   "source": []
  }
 ],
 "metadata": {
  "kernelspec": {
   "display_name": "Python 3",
   "language": "python",
   "name": "python3"
  },
  "language_info": {
   "codemirror_mode": {
    "name": "ipython",
    "version": 3
   },
   "file_extension": ".py",
   "mimetype": "text/x-python",
   "name": "python",
   "nbconvert_exporter": "python",
   "pygments_lexer": "ipython3",
   "version": "3.6.5"
  }
 },
 "nbformat": 4,
 "nbformat_minor": 2
}
