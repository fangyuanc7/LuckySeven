{
 "cells": [
  {
   "cell_type": "code",
   "execution_count": 1,
   "metadata": {},
   "outputs": [],
   "source": [
    "def get_job_description(job_url: str) -> str:\n",
    "    import requests\n",
    "    from bs4 import BeautifulSoup\n",
    "    \n",
    "    headers = {\n",
    "        'accept': 'text/html,application/xhtml+xml,application/xml;q=0.9,image/webp,*/*;q=0.8',\n",
    "        'accept-encoding': 'gzip, deflate, sdch, br',\n",
    "        'accept-language': 'en-GB,en-US;q=0.8,en;q=0.6',\n",
    "        'referer': 'https://www.glassdoor.com/',\n",
    "        'upgrade-insecure-requests': '1',\n",
    "        'user-agent': 'Mozilla/5.0 (X11; Linux x86_64) AppleWebKit/537.36 (KHTML, like Gecko) Ubuntu Chromium/51.0.2704.79 Chrome/51.0.2704.79 Safari/537.36',\n",
    "        'Cache-Control': 'no-cache',\n",
    "        'Connection': 'keep-alive'\n",
    "    }\n",
    "    job_description = ''\n",
    "    response = requests.post(job_url, headers=headers)\n",
    "    if response.status_code != 200:\n",
    "        return job_description\n",
    "    result = BeautifulSoup(response.content,'lxml')\n",
    "    if not result.find('div', class_='jobDesc'):\n",
    "        return job_description\n",
    "    return result.find('div', class_='jobDesc').get_text()"
   ]
  },
  {
   "cell_type": "code",
   "execution_count": 28,
   "metadata": {},
   "outputs": [
    {
     "data": {
      "text/plain": [
       "' Take Yahoo and AOL, fuse them and you get a media and technology company operating at massive global scale. It takes powerful technology to connect our combined media brands and partners with an audience of 1 billion. Nearly half of Oath’s employees are building the code and platforms that help us achieve that. And we’re only getting bigger. Whether you’re looking to write mobile app code, engineer the servers behind our massive ad tech stacks, or develop algorithms to help us process 4 trillion data points a day, what you do here will have a huge impact on our business—and the world. Want in? Yahoo Sports connects fans to the sports and fantasy games they love most and is the first screen for the next generation of sports fans worldwide,who crave real-time personalized quality content and superior fan experiences every day.A Little About Us Yahoo Fantasy Sports is a passionate development team that has an equally passionate user base. We work on both Season Long and Daily Fantasy products delivering a high quality feature rich product to please our users. We work in a deadline driven environment while still having a culture of fun and fandom. A Lot About You We are looking for an Android developer who will match the passion of our user base. We want engineers who like to write high quality code that reaches millions of users and is a great experience for them. You should enjoy working in a deadline driven environment where you will deliver features that our users will thank you for. You should have a strong desire to adapt and learn as well as pass on knowledge to teammates in a highly collaborative environment on the fantasy sports team as well as working with external dependencies. Being a sports fan is awesome, but not required. Your DayWorking in an agile environment where we ship features frequently to create user delight.Collaborating with teams across product, design, engineering, and quality to drive past the status quo.Ensuring quality of code base by writing tests and doing code reviews.Developing new features for an ever-evolving product that makes our users love the app.You Must HaveBachelors or greater in Computer Science or related engineering degreeExperienced in Java or Kotlin (both is a plus) software engineering processes, tools, methods, test development.Strong foundation in computer science, with competencies software design for performance at scale.0-4 years directly related experience of software development, preferably mobile Android development. Oath is proud to be an equal opportunity workplace. All qualified applicants will receive consideration for employment without regard to, and will not be discriminated against based on, age, race, gender, color, religion, national origin, sexual orientation, gender identity, veteran status, disability or any other protected category. Oath is dedicated to providing an accessible environment for all candidates during the application process and for employees during their employment. Please let us know if you need a reasonable accommodation to apply for a job or participate in the application process.  Currently work for Oath? Please apply on our internal career site. \\u200b'"
      ]
     },
     "execution_count": 28,
     "metadata": {},
     "output_type": "execute_result"
    }
   ],
   "source": [
    "get_job_description('https://www.glassdoor.com/partner/jobListing.htm?pos=110&ao=242900&s=58&guid=000001675cf9d049875aa7b51679c81f&src=GD_JOB_AD&t=SR&extid=1&exst=OL&ist=&ast=OL&vt=w&slr=true&rtp=0&cs=1_d82d3305&cb=1543453135369&jobListingId=3000261951')"
   ]
  },
  {
   "cell_type": "code",
   "execution_count": null,
   "metadata": {},
   "outputs": [],
   "source": []
  }
 ],
 "metadata": {
  "kernelspec": {
   "display_name": "Python 3",
   "language": "python",
   "name": "python3"
  },
  "language_info": {
   "codemirror_mode": {
    "name": "ipython",
    "version": 3
   },
   "file_extension": ".py",
   "mimetype": "text/x-python",
   "name": "python",
   "nbconvert_exporter": "python",
   "pygments_lexer": "ipython3",
   "version": "3.6.5"
  }
 },
 "nbformat": 4,
 "nbformat_minor": 2
}
