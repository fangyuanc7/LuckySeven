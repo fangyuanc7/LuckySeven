{
 "cells": [
  {
   "cell_type": "code",
   "execution_count": 7,
   "metadata": {},
   "outputs": [
    {
     "data": {
      "text/plain": [
       "array(['San Antonio'], dtype=object)"
      ]
     },
     "execution_count": 7,
     "metadata": {},
     "output_type": "execute_result"
    }
   ],
   "source": [
    "import numpy as np\n",
    "import pandas as pd\n",
    "\n",
    "# data_set['location'] = ''\n",
    "\n",
    "# for i in range(len(data_set)):\n",
    "#     if data_set['City'][i] in city_list:\n",
    "#         data_set['location'][i] += \"T\"\n",
    "#     else:\n",
    "#         data_set['location'][i] += \"F\"\n",
    "# selected = data_set[data_set['location'] == 'T']      \n",
    "# selected\n",
    "\n",
    "path = '/Users/chenfangyuan/Desktop/tools_pj/'\n",
    "city_set = pd.read_csv(path + 'city_sets.csv')\n",
    "data_set = pd.read_csv(path + 'business analyst-San Antonio-job-results.csv')\n",
    "\n",
    "city_list = list(city_set[\"City Name\"])\n",
    "\n",
    "selected = data_set[data_set['City'].isin(city_list)]\n",
    "selected['City'].unique()\n",
    "\n",
    "\n"
   ]
  },
  {
   "cell_type": "code",
   "execution_count": null,
   "metadata": {},
   "outputs": [],
   "source": []
  }
 ],
 "metadata": {
  "kernelspec": {
   "display_name": "Python 3",
   "language": "python",
   "name": "python3"
  },
  "language_info": {
   "codemirror_mode": {
    "name": "ipython",
    "version": 3
   },
   "file_extension": ".py",
   "mimetype": "text/x-python",
   "name": "python",
   "nbconvert_exporter": "python",
   "pygments_lexer": "ipython3",
   "version": "3.6.5"
  }
 },
 "nbformat": 4,
 "nbformat_minor": 2
}
