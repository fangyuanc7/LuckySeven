{
 "cells": [
  {
   "cell_type": "code",
   "execution_count": 1,
   "metadata": {},
   "outputs": [
    {
     "data": {
      "text/plain": [
       "['New York',\n",
       " 'Los Angeles',\n",
       " 'Chicago',\n",
       " 'Houston',\n",
       " 'Philadelphia',\n",
       " 'Phoenix',\n",
       " 'San Antonio',\n",
       " 'San Diego',\n",
       " 'Dallas',\n",
       " 'San Jose',\n",
       " 'Indianapolis',\n",
       " 'Jacksonville',\n",
       " 'San Francisco',\n",
       " 'Austin',\n",
       " 'Columbus',\n",
       " 'Fort Worth',\n",
       " 'Louisville-Jefferson',\n",
       " 'Charlotte',\n",
       " 'Detroit',\n",
       " 'El Paso',\n",
       " 'Memphis',\n",
       " 'Nashville-Davidson',\n",
       " 'Baltimore',\n",
       " 'Boston',\n",
       " 'Seattle',\n",
       " 'Washington',\n",
       " 'Denver',\n",
       " 'Milwaukee',\n",
       " 'Portland',\n",
       " 'Las Vegas']"
      ]
     },
     "execution_count": 1,
     "metadata": {},
     "output_type": "execute_result"
    }
   ],
   "source": [
    "import numpy as np\n",
    "import pandas as pd\n",
    "\n",
    "path = '/Users/chenfangyuan/Desktop/tools_pj/city_sets.csv'\n",
    "city_set = pd.read_csv(path)\n",
    "\n",
    "city_set.head()\n",
    "city_list = list(city_set[\"City Name\"])\n",
    "city_list"
   ]
  },
  {
   "cell_type": "code",
   "execution_count": null,
   "metadata": {},
   "outputs": [],
   "source": []
  }
 ],
 "metadata": {
  "kernelspec": {
   "display_name": "Python 3",
   "language": "python",
   "name": "python3"
  },
  "language_info": {
   "codemirror_mode": {
    "name": "ipython",
    "version": 3
   },
   "file_extension": ".py",
   "mimetype": "text/x-python",
   "name": "python",
   "nbconvert_exporter": "python",
   "pygments_lexer": "ipython3",
   "version": "3.6.5"
  }
 },
 "nbformat": 4,
 "nbformat_minor": 2
}
